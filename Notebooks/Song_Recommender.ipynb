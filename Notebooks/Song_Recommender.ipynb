{
 "cells": [
  {
   "cell_type": "markdown",
   "id": "893a86b8",
   "metadata": {},
   "source": [
    "# Dimensionality reduction\n"
   ]
  },
  {
   "cell_type": "markdown",
   "id": "feb22656",
   "metadata": {},
   "source": [
    "Importing libraries"
   ]
  },
  {
   "cell_type": "code",
   "execution_count": 1,
   "id": "8696c377",
   "metadata": {},
   "outputs": [],
   "source": [
    "\n",
    "#importing libraries\n",
    "from config import *\n",
    "import spotipy\n",
    "import json\n",
    "from spotipy.oauth2 import SpotifyClientCredentials\n",
    "import pandas as pd\n",
    "import numpy as np\n",
    "import random\n",
    "import pprint\n",
    "import pickle\n",
    "from sklearn import datasets \n",
    "from sklearn.preprocessing import StandardScaler\n",
    "from sklearn.cluster import KMeans\n",
    "from matplotlib import pyplot\n",
    "from sklearn.metrics import silhouette_score\n",
    "from IPython.display import IFrame\n",
    "\n"
   ]
  },
  {
   "cell_type": "code",
   "execution_count": 2,
   "id": "50092162",
   "metadata": {},
   "outputs": [],
   "source": [
    "#Initialize SpotiPy with user credentias #\n",
    "sp = spotipy.Spotify(auth_manager=SpotifyClientCredentials(client_id=client_id,\n",
    "                                                           client_secret=client_secret))"
   ]
  },
  {
   "cell_type": "markdown",
   "id": "a3b67963",
   "metadata": {},
   "source": [
    "## Loading data files"
   ]
  },
  {
   "cell_type": "code",
   "execution_count": 3,
   "id": "fce60ac4",
   "metadata": {},
   "outputs": [],
   "source": [
    "X = pd.read_csv(\"concat_features_final.csv\")\n",
    "with open(\"songs_scaler.pickle\", \"rb\") as f: \n",
    "        scaler = pickle.load(f)\n",
    "with open(\"kmeans_features.pickle\", \"rb\") as f: \n",
    "        kmeans = pickle.load(f) \n",
    "with open(\"tsne_features.pickle\", \"rb\") as f: \n",
    "        tsne = pickle.load(f) "
   ]
  },
  {
   "cell_type": "code",
   "execution_count": 23,
   "id": "de07f5ca",
   "metadata": {},
   "outputs": [],
   "source": [
    "from config import *\n",
    "import spotipy\n",
    "import json\n",
    "from spotipy.oauth2 import SpotifyClientCredentials\n",
    "import pandas as pd\n",
    "import numpy as np\n",
    "import random\n",
    "import pprint\n",
    "import pickle\n",
    "from sklearn.preprocessing import StandardScaler\n",
    "from sklearn.manifold import TSNE\n",
    "from sklearn.cluster import KMeans\n",
    "from IPython.display import display\n",
    "\n",
    "# Assume the necessary variables and functions are already defined (e.g., tsne, kmeans, scaler, etc.)\n",
    "\n",
    "def song_recommender():\n",
    "    sp = spotipy.Spotify(auth_manager=SpotifyClientCredentials(client_id=client_id,\n",
    "                                                               client_secret=client_secret))\n",
    "    song_title = input(\"What song title did you like listening to recently the most: \")\n",
    "    song_artist = input(\"From which artist? \")\n",
    "    query = \"tracks: \" + f\"{song_title}\" + \" artist: \" + f\"{song_artist}\"\n",
    "    results = sp.search(q=query, limit=5)\n",
    "    \n",
    "    songs_dict = {\"Artist\": [], \"Title\": [], \"id\": []}\n",
    "    for item in results['tracks']['items']:\n",
    "        songs_dict['Title'].append(item['name'])\n",
    "        songs_dict['Artist'].append(item['artists'][0]['name'])\n",
    "        songs_dict['id'].append(item['id'])\n",
    "    \n",
    "    songs_df = pd.DataFrame(songs_dict)\n",
    "    \n",
    "    display(songs_df[[\"Artist\", \"Title\"]])\n",
    "    \n",
    "    correct_song_index = int(input(\"Select the right song index: \"))\n",
    "    track_id = songs_df.iloc[correct_song_index, -1]\n",
    "\n",
    "    list_of_ids = [track_id]\n",
    "    user_song_audio_features = sp.audio_features(list_of_ids)\n",
    "    user_song_audio_features_df = pd.DataFrame(user_song_audio_features)\n",
    "\n",
    "    # Assuming 'user_song_audio_features' is a list of dictionaries\n",
    "    user_song_audio_features_df = pd.DataFrame(user_song_audio_features)\n",
    "\n",
    "# Filter out non-numeric columns\n",
    "    numeric_columns = user_song_audio_features_df.select_dtypes(include=[np.number]).columns\n",
    "    user_song_audio_features_df_numeric = user_song_audio_features_df[numeric_columns]\n",
    "\n",
    "# Scale the numeric features\n",
    "    user_song_audio_features_scaled_np = scaler.transform(user_song_audio_features_df_numeric)\n",
    "    user_song_audio_features_scaled_df = pd.DataFrame(user_song_audio_features_scaled_np,\n",
    "                                                  columns=user_song_audio_features_df_numeric.columns,\n",
    "                                                  index=user_song_audio_features_df_numeric.index)\n",
    "\n",
    "\n",
    "    user_song_tsne_features_np = tsne.embedding_\n",
    "    user_song_tsne_features_df = pd.DataFrame(user_song_tsne_features_np, columns=[\"TSNE_1\", \"TSNE_2\"])\n",
    "    user_song_cluster = kmeans.predict(user_song_tsne_features_df)\n",
    "    \n",
    "    if track_id in concat_nhs_hs[concat_nhs_hs['Hot'] == \"Y\"]['id'].values:\n",
    "        cpu_songs = concat_nhs_hs[(concat_nhs_hs['Hot'] == \"Y\")].sample(5)\n",
    "        print(\"Nice!This is hot song. You will probably love listening to this popular songs as well:\")\n",
    "        display(cpu_songs[['Artist', 'Title']])\n",
    "    else:\n",
    "        cpu_songs = concat_nhs_hs[concat_nhs_hs['Hot'] == \"N\"].sample(5)\n",
    "        print(\"Nice!This is not hot song You will probably love listening to these other songs as well:\")\n",
    "        display(cpu_songs[['Artist', 'Title']])\n",
    "  \n",
    "# # Example of usage\n",
    "# answer = \"Yes\"\n",
    "# while answer == \"Yes\":\n",
    "#     song_recommender()\n",
    "#     answer = input(\"Do you want another recommendation? (Yes/No)\")\n",
    "#     while answer not in [\"Yes\", \"No\"]:\n",
    "#         print()\n",
    "#         print(\"I said (Yes/No)!!!!!\")\n",
    "#         answer = input(\"Do you want another recommendation? (Yes/No)\")"
   ]
  },
  {
   "cell_type": "code",
   "execution_count": 24,
   "id": "640d4e74",
   "metadata": {},
   "outputs": [
    {
     "name": "stdout",
     "output_type": "stream",
     "text": [
      "What song title did you like listening to recently the most: In the End\n",
      "From which artist? Linkin Park\n"
     ]
    },
    {
     "data": {
      "text/html": [
       "<div>\n",
       "<style scoped>\n",
       "    .dataframe tbody tr th:only-of-type {\n",
       "        vertical-align: middle;\n",
       "    }\n",
       "\n",
       "    .dataframe tbody tr th {\n",
       "        vertical-align: top;\n",
       "    }\n",
       "\n",
       "    .dataframe thead th {\n",
       "        text-align: right;\n",
       "    }\n",
       "</style>\n",
       "<table border=\"1\" class=\"dataframe\">\n",
       "  <thead>\n",
       "    <tr style=\"text-align: right;\">\n",
       "      <th></th>\n",
       "      <th>Artist</th>\n",
       "      <th>Title</th>\n",
       "    </tr>\n",
       "  </thead>\n",
       "  <tbody>\n",
       "    <tr>\n",
       "      <th>0</th>\n",
       "      <td>Linkin Park</td>\n",
       "      <td>In the End</td>\n",
       "    </tr>\n",
       "    <tr>\n",
       "      <th>1</th>\n",
       "      <td>Black Veil Brides</td>\n",
       "      <td>In The End</td>\n",
       "    </tr>\n",
       "    <tr>\n",
       "      <th>2</th>\n",
       "      <td>Linkin Park</td>\n",
       "      <td>In the End</td>\n",
       "    </tr>\n",
       "    <tr>\n",
       "      <th>3</th>\n",
       "      <td>Tommee Profitt</td>\n",
       "      <td>In The End - Mellen Gi Remix</td>\n",
       "    </tr>\n",
       "    <tr>\n",
       "      <th>4</th>\n",
       "      <td>Linkin Park</td>\n",
       "      <td>In the End (Demo) - LPU Rarities</td>\n",
       "    </tr>\n",
       "  </tbody>\n",
       "</table>\n",
       "</div>"
      ],
      "text/plain": [
       "              Artist                             Title\n",
       "0        Linkin Park                        In the End\n",
       "1  Black Veil Brides                        In The End\n",
       "2        Linkin Park                        In the End\n",
       "3     Tommee Profitt      In The End - Mellen Gi Remix\n",
       "4        Linkin Park  In the End (Demo) - LPU Rarities"
      ]
     },
     "metadata": {},
     "output_type": "display_data"
    },
    {
     "name": "stdout",
     "output_type": "stream",
     "text": [
      "Select the right song index: 0\n",
      "Nice!This is not hot song You will probably love listening to these other songs as well:\n"
     ]
    },
    {
     "data": {
      "text/html": [
       "<div>\n",
       "<style scoped>\n",
       "    .dataframe tbody tr th:only-of-type {\n",
       "        vertical-align: middle;\n",
       "    }\n",
       "\n",
       "    .dataframe tbody tr th {\n",
       "        vertical-align: top;\n",
       "    }\n",
       "\n",
       "    .dataframe thead th {\n",
       "        text-align: right;\n",
       "    }\n",
       "</style>\n",
       "<table border=\"1\" class=\"dataframe\">\n",
       "  <thead>\n",
       "    <tr style=\"text-align: right;\">\n",
       "      <th></th>\n",
       "      <th>Artist</th>\n",
       "      <th>Title</th>\n",
       "    </tr>\n",
       "  </thead>\n",
       "  <tbody>\n",
       "    <tr>\n",
       "      <th>361</th>\n",
       "      <td>Tweet</td>\n",
       "      <td>Oops (Oh My) [feat. Missy Elliott]</td>\n",
       "    </tr>\n",
       "    <tr>\n",
       "      <th>429</th>\n",
       "      <td>Ashanti</td>\n",
       "      <td>Rock Wit U (Awww Baby)</td>\n",
       "    </tr>\n",
       "    <tr>\n",
       "      <th>2390</th>\n",
       "      <td>Meghan Trainor</td>\n",
       "      <td>Made You Look</td>\n",
       "    </tr>\n",
       "    <tr>\n",
       "      <th>1081</th>\n",
       "      <td>Calvin Harris</td>\n",
       "      <td>I'm Not Alone - Radio Edit</td>\n",
       "    </tr>\n",
       "    <tr>\n",
       "      <th>2143</th>\n",
       "      <td>Justin Bieber</td>\n",
       "      <td>Holy (feat. Chance The Rapper)</td>\n",
       "    </tr>\n",
       "  </tbody>\n",
       "</table>\n",
       "</div>"
      ],
      "text/plain": [
       "              Artist                               Title\n",
       "361            Tweet  Oops (Oh My) [feat. Missy Elliott]\n",
       "429          Ashanti              Rock Wit U (Awww Baby)\n",
       "2390  Meghan Trainor                       Made You Look\n",
       "1081   Calvin Harris          I'm Not Alone - Radio Edit\n",
       "2143   Justin Bieber      Holy (feat. Chance The Rapper)"
      ]
     },
     "metadata": {},
     "output_type": "display_data"
    },
    {
     "ename": "KeyboardInterrupt",
     "evalue": "Interrupted by user",
     "output_type": "error",
     "traceback": [
      "\u001b[1;31m---------------------------------------------------------------------------\u001b[0m",
      "\u001b[1;31mKeyboardInterrupt\u001b[0m                         Traceback (most recent call last)",
      "Cell \u001b[1;32mIn[24], line 4\u001b[0m\n\u001b[0;32m      2\u001b[0m \u001b[38;5;28;01mwhile\u001b[39;00m answer \u001b[38;5;241m==\u001b[39m\u001b[38;5;124m\"\u001b[39m\u001b[38;5;124mYes\u001b[39m\u001b[38;5;124m\"\u001b[39m:\n\u001b[0;32m      3\u001b[0m     song_recommender()\n\u001b[1;32m----> 4\u001b[0m     answer \u001b[38;5;241m==\u001b[39m \u001b[38;5;28minput\u001b[39m(\u001b[38;5;124m\"\u001b[39m\u001b[38;5;124mDo you want another recomendation? (Yes/No)\u001b[39m\u001b[38;5;124m\"\u001b[39m)\n\u001b[0;32m      5\u001b[0m     \u001b[38;5;28;01mwhile\u001b[39;00m answer \u001b[38;5;129;01mnot\u001b[39;00m \u001b[38;5;129;01min\u001b[39;00m [\u001b[38;5;124m\"\u001b[39m\u001b[38;5;124mYes\u001b[39m\u001b[38;5;124m\"\u001b[39m,\u001b[38;5;124m\"\u001b[39m\u001b[38;5;124mNo\u001b[39m\u001b[38;5;124m\"\u001b[39m]:\n\u001b[0;32m      6\u001b[0m         \u001b[38;5;28mprint\u001b[39m()\n",
      "File \u001b[1;32m~\\anaconda3\\Lib\\site-packages\\ipykernel\\kernelbase.py:1175\u001b[0m, in \u001b[0;36mKernel.raw_input\u001b[1;34m(self, prompt)\u001b[0m\n\u001b[0;32m   1171\u001b[0m \u001b[38;5;28;01mif\u001b[39;00m \u001b[38;5;129;01mnot\u001b[39;00m \u001b[38;5;28mself\u001b[39m\u001b[38;5;241m.\u001b[39m_allow_stdin:\n\u001b[0;32m   1172\u001b[0m     \u001b[38;5;28;01mraise\u001b[39;00m StdinNotImplementedError(\n\u001b[0;32m   1173\u001b[0m         \u001b[38;5;124m\"\u001b[39m\u001b[38;5;124mraw_input was called, but this frontend does not support input requests.\u001b[39m\u001b[38;5;124m\"\u001b[39m\n\u001b[0;32m   1174\u001b[0m     )\n\u001b[1;32m-> 1175\u001b[0m \u001b[38;5;28;01mreturn\u001b[39;00m \u001b[38;5;28mself\u001b[39m\u001b[38;5;241m.\u001b[39m_input_request(\n\u001b[0;32m   1176\u001b[0m     \u001b[38;5;28mstr\u001b[39m(prompt),\n\u001b[0;32m   1177\u001b[0m     \u001b[38;5;28mself\u001b[39m\u001b[38;5;241m.\u001b[39m_parent_ident[\u001b[38;5;124m\"\u001b[39m\u001b[38;5;124mshell\u001b[39m\u001b[38;5;124m\"\u001b[39m],\n\u001b[0;32m   1178\u001b[0m     \u001b[38;5;28mself\u001b[39m\u001b[38;5;241m.\u001b[39mget_parent(\u001b[38;5;124m\"\u001b[39m\u001b[38;5;124mshell\u001b[39m\u001b[38;5;124m\"\u001b[39m),\n\u001b[0;32m   1179\u001b[0m     password\u001b[38;5;241m=\u001b[39m\u001b[38;5;28;01mFalse\u001b[39;00m,\n\u001b[0;32m   1180\u001b[0m )\n",
      "File \u001b[1;32m~\\anaconda3\\Lib\\site-packages\\ipykernel\\kernelbase.py:1217\u001b[0m, in \u001b[0;36mKernel._input_request\u001b[1;34m(self, prompt, ident, parent, password)\u001b[0m\n\u001b[0;32m   1214\u001b[0m             \u001b[38;5;28;01mbreak\u001b[39;00m\n\u001b[0;32m   1215\u001b[0m \u001b[38;5;28;01mexcept\u001b[39;00m \u001b[38;5;167;01mKeyboardInterrupt\u001b[39;00m:\n\u001b[0;32m   1216\u001b[0m     \u001b[38;5;66;03m# re-raise KeyboardInterrupt, to truncate traceback\u001b[39;00m\n\u001b[1;32m-> 1217\u001b[0m     \u001b[38;5;28;01mraise\u001b[39;00m \u001b[38;5;167;01mKeyboardInterrupt\u001b[39;00m(\u001b[38;5;124m\"\u001b[39m\u001b[38;5;124mInterrupted by user\u001b[39m\u001b[38;5;124m\"\u001b[39m) \u001b[38;5;28;01mfrom\u001b[39;00m \u001b[38;5;28;01mNone\u001b[39;00m\n\u001b[0;32m   1218\u001b[0m \u001b[38;5;28;01mexcept\u001b[39;00m \u001b[38;5;167;01mException\u001b[39;00m:\n\u001b[0;32m   1219\u001b[0m     \u001b[38;5;28mself\u001b[39m\u001b[38;5;241m.\u001b[39mlog\u001b[38;5;241m.\u001b[39mwarning(\u001b[38;5;124m\"\u001b[39m\u001b[38;5;124mInvalid Message:\u001b[39m\u001b[38;5;124m\"\u001b[39m, exc_info\u001b[38;5;241m=\u001b[39m\u001b[38;5;28;01mTrue\u001b[39;00m)\n",
      "\u001b[1;31mKeyboardInterrupt\u001b[0m: Interrupted by user"
     ]
    }
   ],
   "source": [
    "answer = \"Yes\"\n",
    "while answer ==\"Yes\":\n",
    "    song_recommender()\n",
    "    answer == input(\"Do you want another recomendation? (Yes/No)\")\n",
    "    while answer not in [\"Yes\",\"No\"]:\n",
    "        print()\n",
    "        print(\"I said (Yes/No)!!!!!\")\n",
    "        answer == input(\"Do you want another recomendation? (Yes/No)\")\n",
    "      "
   ]
  },
  {
   "cell_type": "code",
   "execution_count": null,
   "id": "2910fbfc",
   "metadata": {},
   "outputs": [],
   "source": []
  }
 ],
 "metadata": {
  "kernelspec": {
   "display_name": "Python 3 (ipykernel)",
   "language": "python",
   "name": "python3"
  },
  "language_info": {
   "codemirror_mode": {
    "name": "ipython",
    "version": 3
   },
   "file_extension": ".py",
   "mimetype": "text/x-python",
   "name": "python",
   "nbconvert_exporter": "python",
   "pygments_lexer": "ipython3",
   "version": "3.11.4"
  }
 },
 "nbformat": 4,
 "nbformat_minor": 5
}
